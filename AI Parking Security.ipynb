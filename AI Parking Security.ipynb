
{
 "cells": [
  {
   "cell_type": "code",
   "execution_count": 2,
   "id": "499ef4dc",
   "metadata": {},
   "outputs": [
    {
     "name": "stdout",
     "output_type": "stream",
     "text": [
      "Encoding Complete\n"
     ]
    },
    {
     "data": {
      "text/plain": [
       "-1"
      ]
     },
     "execution_count": 2,
     "metadata": {},
     "output_type": "execute_result"
    }
   ],
   "source": [
    "import numpy as np\n",
    "import cv2\n",
    "import face_recognition\n",
    "import os\n",
    "from datetime import datetime\n",
    "import imutils\n",
    "import pytesseract\n",
    "import random\n",
    "pytesseract.pytesseract.tesseract_cmd = 'C:\\Program Files\\Tesseract-OCR\\\\tesseract'\n",
    "\n",
    "path=\"train\"\n",
    "images=[]\n",
    "ClassNames=[]\n",
    "\n",
    "mylist=os.listdir(path)\n",
    "for cls in mylist:\n",
    "    currentImg=cv2.imread(f\"{path}/{cls}\")\n",
    "    images.append(currentImg)\n",
    "    ClassNames.append(os.path.splitext(cls)[0])\n",
    "# print(ClassNames)\n",
    "# cv2.imshow(\"image\",images[2])\n",
    "# cv2.waitKey(0)\n",
    "\n",
    "\n",
    "def get_number_plate(image,name):\n",
    "#     image = cv2.imread(images)\n",
    "    gray_image = cv2.cvtColor(image, cv2.COLOR_BGR2GRAY)\n",
    "    gray_image = cv2.bilateralFilter(gray_image, 11, 17, 17) \n",
    "    edged = cv2.Canny(gray_image, 30, 200) \n",
    "    cnts,new = cv2.findContours(edged.copy(), cv2.RETR_LIST, cv2.CHAIN_APPROX_SIMPLE)\n",
    "    image1=image.copy()\n",
    "    cv2.drawContours(image1,cnts,-1,(0,255,0),3)\n",
    "    cnts = sorted(cnts, key = cv2.contourArea, reverse = True) [:30]\n",
    "    screenCnt = None\n",
    "    image2 = image.copy()\n",
    "    cv2.drawContours(image2,cnts,-1,(0,255,0),3)\n",
    "\n",
    "    for c in cnts:\n",
    "        perimeter = cv2.arcLength(c, True)\n",
    "        approx = cv2.approxPolyDP(c, 0.018 * perimeter, True)\n",
    "        if len(approx) == 4: \n",
    "                screenCnt = approx\n",
    "        x,y,w,h = cv2.boundingRect(c) \n",
    "        new_img=image[y:y+h,x:x+w]\n",
    "        i=random.randint(0,1)\n",
    "        cv2.imwrite('./'+str(name)+'.png',new_img)\n",
    "        break\n",
    "    cv2.drawContours(image, [screenCnt], -1, (0, 255, 0), 3)\n",
    "    Cropped_loc = f'./{name}.png'\n",
    "    plate = pytesseract.image_to_string(Cropped_loc, lang='eng')\n",
    "    number_plate=plate[:-1]\n",
    "    return number_plate\n",
    "\n",
    "\n",
    "\n",
    "\n",
    "\n",
    "def encoder(images):\n",
    "    encode_list=[]\n",
    "    for img in images:\n",
    "        img=cv2.cvtColor(img, cv2.COLOR_BGR2RGB)\n",
    "        encode= face_recognition.face_encodings(img)[0]\n",
    "        encode_list.append(encode)\n",
    "    return encode_list\n",
    "\n",
    "def mark_attendence(name,num):\n",
    "    with open(\"entry.csv\", 'r+') as f:\n",
    "        myDataList=f.readlines()\n",
    "        nameList=[]\n",
    "        for line in myDataList:\n",
    "            entry = line.split(',')\n",
    "            nameList.append(entry[0])\n",
    "        if name not in nameList:\n",
    "            now= datetime.now()\n",
    "            datestring=now.strftime('%H:%M:%S')\n",
    "            f.writelines(f\"\\n{name},{num},{datestring}\")\n",
    "            \n",
    "#         print(myDataList)\n",
    "\n",
    "    \n",
    "\n",
    "\n",
    "encodeList= encoder(images)\n",
    "# print(len(encodeList))\n",
    "print(\"Encoding Complete\")\n",
    "\n",
    "\n",
    "\n",
    "cap=cv2.VideoCapture(0)\n",
    "\n",
    "while True:\n",
    "    success, img = cap.read()\n",
    "\n",
    "# img= cv2.imread(\"data/shahrukh.jpg\")\n",
    "\n",
    "    imgS=cv2.cvtColor(img, cv2.COLOR_BGR2RGB)\n",
    "\n",
    "    face_Current_Frame= face_recognition.face_locations(imgS)\n",
    "    encoding_Current_Frame= face_recognition.face_encodings(imgS,face_Current_Frame)\n",
    "\n",
    "    for encode_face, face_loc in zip(encoding_Current_Frame,face_Current_Frame):\n",
    "        matches=face_recognition.compare_faces(encodeList,encode_face)\n",
    "        face_Distance=face_recognition.face_distance(encodeList,encode_face)\n",
    "        match_index=np.argmin(face_Distance)\n",
    "        if matches[match_index]:\n",
    "            name=ClassNames[match_index].upper() \n",
    "            plate=get_number_plate(img,name)\n",
    "            mark_attendence(name,plate)\n",
    "    #             print(f\"Attandence Marked for {name}\")\n",
    "            y1,x2,y2,x1=face_loc\n",
    "            cv2.rectangle(img,(x1,y1),(x2,y2),(0,255,0),1)\n",
    "            cv2.rectangle(img,(x1,y2-10),(x2,y2),(0,255,0),cv2.FILLED)\n",
    "            cv2.putText(img, name,(x1+2,y2-2),cv2.FONT_HERSHEY_COMPLEX,0.3,(255,255,255),1)\n",
    "\n",
    "\n",
    "    cv2.imshow(\"video\",img)\n",
    "# cv2.waitKey(0)\n",
    "    if cv2.waitKey(1) & 0xff ==ord('q'):\n",
    "        break\n"
   ]
  },
  {
   "cell_type": "code",
   "execution_count": 4,
   "id": "63755bf5",
   "metadata": {},
   "outputs": [
    {
     "data": {
      "text/plain": [
       "True"
      ]
     },
     "execution_count": 4,
     "metadata": {},
     "output_type": "execute_result"
    }
   ],
   "source": [
    "cv2.imwrite(\"image2.jpg\",img)"
   ]
  }
 ],
 "metadata": {
  "kernelspec": {
   "display_name": "Python 3 (ipykernel)",
   "language": "python",
   "name": "python3"
  },
  "language_info": {
   "codemirror_mode": {
    "name": "ipython",
    "version": 3
   },
   "file_extension": ".py",
   "mimetype": "text/x-python",
   "name": "python",
   "nbconvert_exporter": "python",
   "pygments_lexer": "ipython3",
   "version": "3.10.1"
  }
 },
 "nbformat": 4,
 "nbformat_minor": 5
}
